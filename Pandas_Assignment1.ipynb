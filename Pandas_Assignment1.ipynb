{
 "cells": [
  {
   "cell_type": "markdown",
   "id": "96759c5d-8586-4bb8-a0c8-7f7e37c15c59",
   "metadata": {},
   "source": [
    "## Q1. Create a Pandas Series that contains the following data: 4, 8, 15, 16, 23, and 42. Then, print the series."
   ]
  },
  {
   "cell_type": "markdown",
   "id": "2d4efeff-c606-48d9-b1d0-f304808da58b",
   "metadata": {},
   "source": [
    "## Ans:"
   ]
  },
  {
   "cell_type": "code",
   "execution_count": 1,
   "id": "8de5489b-2ec6-4dbe-b367-de90371c421a",
   "metadata": {},
   "outputs": [
    {
     "name": "stdout",
     "output_type": "stream",
     "text": [
      "0     4\n",
      "1     8\n",
      "2    15\n",
      "3    16\n",
      "4    23\n",
      "5    42\n",
      "dtype: int64\n",
      "Type of the series: <class 'pandas.core.series.Series'>\n"
     ]
    }
   ],
   "source": [
    "import pandas as pd\n",
    "data = [4, 8, 15, 16, 23, 42]\n",
    "series = pd.Series(data)\n",
    "print(series)\n",
    "print('Type of the series:', type(series))"
   ]
  },
  {
   "cell_type": "markdown",
   "id": "24e68df1-ec85-4316-ac1e-cf7c9ec6ecb6",
   "metadata": {},
   "source": [
    "## Q2. Create a variable of list type containing 10 elements in it, and apply pandas.Series function on the variable print it."
   ]
  },
  {
   "cell_type": "markdown",
   "id": "2a962e19-3261-48da-a980-cfbf947d78b0",
   "metadata": {},
   "source": [
    "## Ans:"
   ]
  },
  {
   "cell_type": "code",
   "execution_count": 2,
   "id": "f572c76c-4daf-4cbe-bb70-ff47de1f8e15",
   "metadata": {},
   "outputs": [],
   "source": [
    "lst = [i for i in range(1,21,2)]"
   ]
  },
  {
   "cell_type": "code",
   "execution_count": 3,
   "id": "970a963a-8e2e-4ccf-a173-171536e6410a",
   "metadata": {},
   "outputs": [
    {
     "name": "stdout",
     "output_type": "stream",
     "text": [
      "0     1\n",
      "1     3\n",
      "2     5\n",
      "3     7\n",
      "4     9\n",
      "5    11\n",
      "6    13\n",
      "7    15\n",
      "8    17\n",
      "9    19\n",
      "dtype: int64\n",
      "Type of the series: <class 'pandas.core.series.Series'>\n"
     ]
    }
   ],
   "source": [
    "series2 = pd.Series(lst)\n",
    "print(series2)\n",
    "print('Type of the series:', type(series2))"
   ]
  },
  {
   "cell_type": "markdown",
   "id": "c767e9e9-70c7-42af-b5d5-d5576ba96d26",
   "metadata": {},
   "source": [
    "## Q3. Create a Pandas DataFrame that contains the following data: Then, print the DataFrame. \\\n",
    "Name : Alice, Bob, Claire; \\\n",
    "Age : 25, 30, 27; \\\n",
    "Gender : Female, Male, Female"
   ]
  },
  {
   "cell_type": "markdown",
   "id": "76a62d5e-b98e-4351-80ae-7de9a004b807",
   "metadata": {},
   "source": [
    "## Ans:"
   ]
  },
  {
   "cell_type": "code",
   "execution_count": 4,
   "id": "c0343053-43dc-4729-b7d9-80c44ba195f6",
   "metadata": {},
   "outputs": [
    {
     "name": "stdout",
     "output_type": "stream",
     "text": [
      "     Name  Age  Gender\n",
      "0   Alice   25  Female\n",
      "1     Bob   30    Male\n",
      "2  Claire   27  Female\n"
     ]
    }
   ],
   "source": [
    "data = {\n",
    "    'Name': ['Alice', 'Bob', 'Claire'],\n",
    "    'Age': [25, 30, 27],\n",
    "    'Gender': ['Female', 'Male', 'Female']\n",
    "}\n",
    "\n",
    "df = pd.DataFrame(data)\n",
    "print(df)"
   ]
  },
  {
   "cell_type": "markdown",
   "id": "ecad4127-dcf1-421a-9478-7bcb50bbda9b",
   "metadata": {},
   "source": [
    "## Q4. What is ‘DataFrame’ in pandas and how is it different from pandas.series? Explain with an example."
   ]
  },
  {
   "cell_type": "markdown",
   "id": "09550517-4631-46a6-b6a5-6ebdf7c3bafb",
   "metadata": {},
   "source": [
    "## Ans:"
   ]
  },
  {
   "cell_type": "markdown",
   "id": "814fce0c-b1d4-4b22-98d6-7582f568b4bc",
   "metadata": {},
   "source": [
    "In Pandas, a DataFrame is a two-dimensional, size-mutable, and tabular data structure that is similar to a spreadsheet or a SQL table. It is one of the most commonly used data structures in Pandas and is capable of storing data in a structured and organized manner. You can think of a DataFrame as a collection of Pandas Series objects, where each Series represents a column, and the columns are aligned by a common index. DataFrames are highly versatile and allow you to work with structured data efficiently.\n",
    "\n",
    "On the other hand, a Pandas Series is a one-dimensional labeled array capable of holding data of any type. It is essentially a single column or row of data with an associated index. You can think of a Series as a labeled list or array. While a DataFrame is a two-dimensional structure that can hold multiple columns, a Series represents a single column of data."
   ]
  },
  {
   "cell_type": "code",
   "execution_count": 5,
   "id": "0174b0aa-bb4e-4e73-99ee-0569335ac112",
   "metadata": {},
   "outputs": [
    {
     "name": "stdout",
     "output_type": "stream",
     "text": [
      "0     Apple\n",
      "1    Banana\n",
      "2    Cherry\n",
      "3      Date\n",
      "Name: Fruits, dtype: object\n",
      "   Fruits  Quantity\n",
      "0   Apple         5\n",
      "1  Banana        10\n",
      "2  Cherry         8\n",
      "3    Date        12\n"
     ]
    }
   ],
   "source": [
    "import pandas as pd\n",
    "\n",
    "# Creating a Pandas Series\n",
    "fruits_series = pd.Series(['Apple', 'Banana', 'Cherry', 'Date'], name='Fruits')\n",
    "print(fruits_series)\n",
    "\n",
    "# Creating a Pandas DataFrame\n",
    "data = {'Fruits': ['Apple', 'Banana', 'Cherry', 'Date'],\n",
    "        'Quantity': [5, 10, 8, 12]}\n",
    "fruits_df = pd.DataFrame(data)\n",
    "print(fruits_df)"
   ]
  },
  {
   "cell_type": "markdown",
   "id": "3197220d-3dc8-43b1-8531-522d46311af8",
   "metadata": {},
   "source": [
    "## Q5. What are some common functions you can use to manipulate data in a Pandas DataFrame? Can you give an example of when you might use one of these functions?"
   ]
  },
  {
   "cell_type": "markdown",
   "id": "28201dc4-dc9e-45c6-8bb7-dbf1068f9652",
   "metadata": {},
   "source": [
    "## Ans:"
   ]
  },
  {
   "cell_type": "markdown",
   "id": "638a2038-b6cf-4f14-93be-b48f9b275074",
   "metadata": {},
   "source": [
    "1. head() and tail(): These functions allow you to view the first or last n rows of a DataFrame. They are useful for quickly inspecting the data.\n",
    "2. describe(): Provides summary statistics of numeric columns, such as count, mean, standard deviation, min, and max.\n",
    "3. info(): Gives a concise summary of the DataFrame, including data types and non-null counts. Useful for understanding missing data.\n",
    "4. shape: Returns the dimensions (number of rows and columns) of the DataFrame as a tuple.\n",
    "5. loc[] and iloc[]: Used for label-based and integer-based indexing, respectively. You can use these to select specific rows or columns from the DataFrame.\n",
    "6. drop(): Allows you to remove rows or columns from the DataFrame.\n",
    "7. groupby(): Used for grouping data based on one or more columns and applying aggregate functions.\n",
    "8. sort_values(): Sorts the DataFrame by one or more columns.\n",
    "9. fillna(): Fills missing values in the DataFrame with specified values or using specific methods.\n",
    "10. pivot_table(): Creates a pivot table to summarize and reshape data"
   ]
  },
  {
   "cell_type": "code",
   "execution_count": null,
   "id": "879e4374-7c84-4556-a419-052375c539f7",
   "metadata": {},
   "outputs": [],
   "source": [
    "df.head(3)  # Display the first 3 rows of the DataFrame\n",
    "df.tail(2)  # Display the last 2 rows of the DataFrame\n",
    "\n",
    "df.describe()\n",
    "\n",
    "df.info()\n",
    "\n",
    "df.shape  # Returns (rows, columns)\n",
    "# Select the first row\n",
    "\n",
    "df.loc[0]\n",
    "# Select the first three rows and the 'Name' and 'Age' columns\n",
    "df.loc[0:2, ['Name', 'Age']]\n",
    "\n",
    "df.drop(0)  # Remove the first row\n",
    "df.drop(columns=['Age'])  # Remove the 'Age' column\n",
    "\n",
    "# Grouping by 'Gender' and calculating the mean age for each group\n",
    "df.groupby('Gender')['Age'].mean()\n",
    "\n",
    "# Sort by 'Age' in ascending order\n",
    "df.sort_values(by='Age', ascending=True)\n",
    "\n",
    "# Fill missing 'Age' values with the mean age\n",
    "df['Age'].fillna(df['Age'].mean(), inplace=True)\n",
    "\n",
    "# Create a pivot table to calculate the mean age by 'Gender' and 'City'\n",
    "pivot_table = df.pivot_table(values='Age', index='Gender', columns='City', aggfunc='mean')"
   ]
  },
  {
   "cell_type": "markdown",
   "id": "1b880395-28bc-4d98-9f62-7a04cbe9ee8d",
   "metadata": {},
   "source": [
    "## Q6. Which of the following is mutable in nature Series, DataFrame, Panel?"
   ]
  },
  {
   "cell_type": "markdown",
   "id": "df4cf190-0053-40ba-a9ce-a318f38a1f06",
   "metadata": {},
   "source": [
    "## Ans:"
   ]
  },
  {
   "cell_type": "markdown",
   "id": "019bec77-8251-41c8-a207-9a73820d7350",
   "metadata": {},
   "source": [
    "Among the three data structures, Series, DataFrame, and Panel, only the DataFrame is mutable in nature. This means we can modify the data within a DataFrame after it has been created. We can add, remove, or update rows and columns in a DataFrame.\n",
    "\n",
    "In contrast, both Series and Panel are considered immutable. Once we create them, we cannot change their contents directly. If we want to modify a Series or Panel, we typically create a new one with the desired changes rather than altering the original object. However, in practice, Pandas has evolved, and Panel is not as commonly used as Series and DataFrame, and it has been deprecated in favor of other data structures like MultiIndex DataFrames."
   ]
  },
  {
   "cell_type": "markdown",
   "id": "8f19c8c6-dc4d-48fe-a9ea-a0f71d8b7809",
   "metadata": {},
   "source": [
    "## Q7. Create a DataFrame using multiple Series. Explain with an example."
   ]
  },
  {
   "cell_type": "markdown",
   "id": "31f99d34-094f-4d57-8759-fd4c1638252a",
   "metadata": {},
   "source": [
    "## Ans:"
   ]
  },
  {
   "cell_type": "markdown",
   "id": "57e7d212-be92-4dd5-bfdd-e624b9f29057",
   "metadata": {},
   "source": [
    "We can create a DataFrame using multiple Series by combining them into a single DataFrame object. Each Series will become a column in the resulting DataFrame. Here's an example to illustrate how to do this:"
   ]
  },
  {
   "cell_type": "code",
   "execution_count": 6,
   "id": "26cda617-263e-4a52-894d-baf334599be1",
   "metadata": {},
   "outputs": [
    {
     "name": "stdout",
     "output_type": "stream",
     "text": [
      "     Name  Age  Gender\n",
      "0   Alice   25  Female\n",
      "1     Bob   30    Male\n",
      "2  Claire   27  Female\n"
     ]
    }
   ],
   "source": [
    "import pandas as pd\n",
    "\n",
    "# Create multiple Pandas Series\n",
    "name_series = pd.Series(['Alice', 'Bob', 'Claire'])\n",
    "age_series = pd.Series([25, 30, 27])\n",
    "gender_series = pd.Series(['Female', 'Male', 'Female'])\n",
    "\n",
    "# Combine the Series into a DataFrame\n",
    "data = {'Name': name_series, 'Age': age_series, 'Gender': gender_series}\n",
    "df = pd.DataFrame(data)\n",
    "\n",
    "# Print the resulting DataFrame\n",
    "print(df)"
   ]
  }
 ],
 "metadata": {
  "kernelspec": {
   "display_name": "Python 3 (ipykernel)",
   "language": "python",
   "name": "python3"
  },
  "language_info": {
   "codemirror_mode": {
    "name": "ipython",
    "version": 3
   },
   "file_extension": ".py",
   "mimetype": "text/x-python",
   "name": "python",
   "nbconvert_exporter": "python",
   "pygments_lexer": "ipython3",
   "version": "3.10.8"
  }
 },
 "nbformat": 4,
 "nbformat_minor": 5
}
