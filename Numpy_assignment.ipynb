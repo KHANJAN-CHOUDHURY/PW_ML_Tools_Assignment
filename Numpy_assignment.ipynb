{
 "cells": [
  {
   "cell_type": "markdown",
   "id": "280f73db-1d0d-46c3-b417-64f4f5b4e3f2",
   "metadata": {},
   "source": [
    "## Consider the below code to answer further questions:"
   ]
  },
  {
   "cell_type": "code",
   "execution_count": 2,
   "id": "f31d69ec-a70a-4a89-9b57-c58ce0e70353",
   "metadata": {},
   "outputs": [],
   "source": [
    "import numpy as np\n",
    "list_ = ['1', '2' , '3' , '4' , '5' ]\n",
    "array_list = np.array(object = list_)"
   ]
  },
  {
   "cell_type": "markdown",
   "id": "ba83c65c-c9eb-439d-90f0-3d72e86af980",
   "metadata": {},
   "source": [
    "## Q1. Is there any difference in the data type of variables list_ and array_list? If there is then write a code to print the data types of both the variables."
   ]
  },
  {
   "cell_type": "markdown",
   "id": "3ca14daa-8ba1-4544-9d06-c22f06dd19a7",
   "metadata": {},
   "source": [
    "## Ans:"
   ]
  },
  {
   "cell_type": "markdown",
   "id": "74f5014b-bea3-414a-8bb3-c3a10eaf175a",
   "metadata": {},
   "source": [
    "the data type of variables list_ and array_list are different. The list_ variable belongs to list data type and array_list variable belongs to numpy.ndarray data type."
   ]
  },
  {
   "cell_type": "code",
   "execution_count": 4,
   "id": "134e6237-2cdf-40be-8d73-8e59bdc88980",
   "metadata": {},
   "outputs": [
    {
     "name": "stdout",
     "output_type": "stream",
     "text": [
      "<class 'list'>\n",
      "<class 'numpy.ndarray'>\n"
     ]
    }
   ],
   "source": [
    "print(type(list_))\n",
    "print(type(array_list))"
   ]
  },
  {
   "cell_type": "markdown",
   "id": "67f45e1e-350c-43ff-ae32-45fb369e34b3",
   "metadata": {},
   "source": [
    "## Q2. Write a code to print the data type of each and every element of both the variables list_ and arra_list."
   ]
  },
  {
   "cell_type": "markdown",
   "id": "49199613-5d08-469e-9f20-a2e0fc579048",
   "metadata": {},
   "source": [
    "## Ans:"
   ]
  },
  {
   "cell_type": "markdown",
   "id": "b6f200c8-eb22-49d1-a2c5-b1e57df63534",
   "metadata": {},
   "source": [
    "Printing the data type of the each element of the variable list_"
   ]
  },
  {
   "cell_type": "code",
   "execution_count": 5,
   "id": "0ca1779b-16ef-4564-a9d8-cd88a735c5d5",
   "metadata": {},
   "outputs": [
    {
     "name": "stdout",
     "output_type": "stream",
     "text": [
      "<class 'str'>\n",
      "<class 'str'>\n",
      "<class 'str'>\n",
      "<class 'str'>\n",
      "<class 'str'>\n"
     ]
    }
   ],
   "source": [
    "for ele in list_:\n",
    "    print(type(ele))"
   ]
  },
  {
   "cell_type": "markdown",
   "id": "c28dfc35-c5cc-4bef-83c1-d2a90cd4afe2",
   "metadata": {},
   "source": [
    "Printing the data type of the each element of the variable array_list"
   ]
  },
  {
   "cell_type": "code",
   "execution_count": 6,
   "id": "0fe078e4-b6f9-4b37-be82-eb0fbb3d2146",
   "metadata": {},
   "outputs": [
    {
     "name": "stdout",
     "output_type": "stream",
     "text": [
      "<class 'numpy.str_'>\n",
      "<class 'numpy.str_'>\n",
      "<class 'numpy.str_'>\n",
      "<class 'numpy.str_'>\n",
      "<class 'numpy.str_'>\n"
     ]
    }
   ],
   "source": [
    "for ele in array_list:\n",
    "    print(type(ele))"
   ]
  },
  {
   "cell_type": "markdown",
   "id": "0b196f9d-6b21-4177-9a39-534c7bc0f3ea",
   "metadata": {},
   "source": [
    "## Q3. Considering the following changes in the variable, array_list:"
   ]
  },
  {
   "cell_type": "code",
   "execution_count": 7,
   "id": "91348cc9-f6a8-4145-abcd-ec045c04f26d",
   "metadata": {},
   "outputs": [],
   "source": [
    "array_list = np.array(object = list_, dtype = int)"
   ]
  },
  {
   "cell_type": "markdown",
   "id": "1c89187c-b3fa-469c-8e18-14034f337f12",
   "metadata": {},
   "source": [
    "## Will there be any difference in the data type of the elements present in both the variables, list_ and array_list? If so then print the data types of each and every element present in both the variables, list_ and array_list."
   ]
  },
  {
   "cell_type": "markdown",
   "id": "431d1265-6099-44dd-874d-c9df9dec8c9c",
   "metadata": {},
   "source": [
    "## Ans:"
   ]
  },
  {
   "cell_type": "markdown",
   "id": "c9b9c4e7-b3e3-4aab-99bc-ba250239baaf",
   "metadata": {},
   "source": [
    "There will be difference in the data type of the elements present in both the variable array_list. That is the data type of elements of array_list will change from 'numpy.str_' to 'numpy.int64'. The data type of elements of list_ will remain same."
   ]
  },
  {
   "cell_type": "markdown",
   "id": "3220de57-a2bb-4835-8138-2a9f07ce5df7",
   "metadata": {},
   "source": [
    "Printing the data type of the each element of the variable list_"
   ]
  },
  {
   "cell_type": "code",
   "execution_count": 8,
   "id": "96d953f4-9830-4dc8-a30b-172a1e3ecd67",
   "metadata": {},
   "outputs": [
    {
     "name": "stdout",
     "output_type": "stream",
     "text": [
      "<class 'str'>\n",
      "<class 'str'>\n",
      "<class 'str'>\n",
      "<class 'str'>\n",
      "<class 'str'>\n"
     ]
    }
   ],
   "source": [
    "for ele in list_:\n",
    "    print(type(ele))"
   ]
  },
  {
   "cell_type": "markdown",
   "id": "2d248081-76e1-4c1f-a747-48ed27ac7850",
   "metadata": {},
   "source": [
    "Printing the data type of the each element of the variable array_list"
   ]
  },
  {
   "cell_type": "code",
   "execution_count": 9,
   "id": "841a9e2d-bfbf-4af9-af35-ea5f52af7683",
   "metadata": {},
   "outputs": [
    {
     "name": "stdout",
     "output_type": "stream",
     "text": [
      "<class 'numpy.int64'>\n",
      "<class 'numpy.int64'>\n",
      "<class 'numpy.int64'>\n",
      "<class 'numpy.int64'>\n",
      "<class 'numpy.int64'>\n"
     ]
    }
   ],
   "source": [
    "for ele in array_list:\n",
    "    print(type(ele))"
   ]
  },
  {
   "cell_type": "markdown",
   "id": "4321e068-7ba0-4310-acf4-7c0da1fb6873",
   "metadata": {},
   "source": [
    "## Consider the below code to answer further questions:"
   ]
  },
  {
   "cell_type": "code",
   "execution_count": 10,
   "id": "a2180ac0-7eda-4cae-ba42-f3feda98bdc1",
   "metadata": {},
   "outputs": [],
   "source": [
    "import numpy as np\n",
    "num_list = [ [ 1 , 2 , 3 ] , [ 4 , 5 , 6 ] ]\n",
    "num_array = np.array(object = num_list)"
   ]
  },
  {
   "cell_type": "markdown",
   "id": "43fc42bb-5542-40f3-9240-d0ff4f56f491",
   "metadata": {},
   "source": [
    "## Q4. Write a code to find the following characteristics of variable, num_array:\n",
    "(i) shape \\\n",
    "(ii) size"
   ]
  },
  {
   "cell_type": "markdown",
   "id": "98125896-bd96-44f8-9ba4-234ba68d11cf",
   "metadata": {},
   "source": [
    "## Ans:"
   ]
  },
  {
   "cell_type": "code",
   "execution_count": 11,
   "id": "8ee3bf8a-aa24-4547-95be-384d72506d8a",
   "metadata": {},
   "outputs": [
    {
     "data": {
      "text/plain": [
       "(2, 3)"
      ]
     },
     "execution_count": 11,
     "metadata": {},
     "output_type": "execute_result"
    }
   ],
   "source": [
    "num_array.shape # (2X3)"
   ]
  },
  {
   "cell_type": "code",
   "execution_count": 12,
   "id": "01bd8145-3186-4efb-9986-1a0cd9de620d",
   "metadata": {},
   "outputs": [
    {
     "data": {
      "text/plain": [
       "6"
      ]
     },
     "execution_count": 12,
     "metadata": {},
     "output_type": "execute_result"
    }
   ],
   "source": [
    "num_array.size # 6"
   ]
  },
  {
   "cell_type": "markdown",
   "id": "5dabf772-a44b-422c-a8e3-7428fa6293ce",
   "metadata": {},
   "source": [
    "## Q5. Write a code to create numpy array of 3*3 matrix containing zeros only, using a numpy array creation function."
   ]
  },
  {
   "cell_type": "markdown",
   "id": "a39a89dd-506d-40f5-b191-0fb9d8975c50",
   "metadata": {},
   "source": [
    "## Ans:"
   ]
  },
  {
   "cell_type": "code",
   "execution_count": 15,
   "id": "e0112b3a-dcee-41cf-b7d5-38b87d0c3580",
   "metadata": {},
   "outputs": [],
   "source": [
    "zero_mat = np.zeros((3,3))"
   ]
  },
  {
   "cell_type": "code",
   "execution_count": 16,
   "id": "a554617d-d0f0-410e-b2c6-82bc9ab772a1",
   "metadata": {},
   "outputs": [
    {
     "data": {
      "text/plain": [
       "array([[0., 0., 0.],\n",
       "       [0., 0., 0.],\n",
       "       [0., 0., 0.]])"
      ]
     },
     "execution_count": 16,
     "metadata": {},
     "output_type": "execute_result"
    }
   ],
   "source": [
    "zero_mat"
   ]
  },
  {
   "cell_type": "markdown",
   "id": "d3208487-e777-43f1-83b4-2dabb3de1fd3",
   "metadata": {},
   "source": [
    "## Q6. Create an identity matrix of shape (5,5) using numpy functions?"
   ]
  },
  {
   "cell_type": "markdown",
   "id": "33ead9cf-6e2f-4152-9c0c-bb2e3456f58a",
   "metadata": {},
   "source": [
    "## Ans:"
   ]
  },
  {
   "cell_type": "code",
   "execution_count": 18,
   "id": "296ab9de-304b-45d5-83c4-459c4d22a90d",
   "metadata": {},
   "outputs": [
    {
     "data": {
      "text/plain": [
       "array([[1., 0., 0., 0., 0.],\n",
       "       [0., 1., 0., 0., 0.],\n",
       "       [0., 0., 1., 0., 0.],\n",
       "       [0., 0., 0., 1., 0.],\n",
       "       [0., 0., 0., 0., 1.]])"
      ]
     },
     "execution_count": 18,
     "metadata": {},
     "output_type": "execute_result"
    }
   ],
   "source": [
    "a = np.eye(5,5)\n",
    "a"
   ]
  }
 ],
 "metadata": {
  "kernelspec": {
   "display_name": "Python 3 (ipykernel)",
   "language": "python",
   "name": "python3"
  },
  "language_info": {
   "codemirror_mode": {
    "name": "ipython",
    "version": 3
   },
   "file_extension": ".py",
   "mimetype": "text/x-python",
   "name": "python",
   "nbconvert_exporter": "python",
   "pygments_lexer": "ipython3",
   "version": "3.10.8"
  }
 },
 "nbformat": 4,
 "nbformat_minor": 5
}
