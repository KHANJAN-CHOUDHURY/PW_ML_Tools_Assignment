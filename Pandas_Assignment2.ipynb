{
 "cells": [
  {
   "cell_type": "markdown",
   "id": "00dc0b4e-c9a9-4a61-b8af-dee7a05bb4a1",
   "metadata": {},
   "source": [
    "## Q1. List any five functions of the pandas library with execution."
   ]
  },
  {
   "cell_type": "markdown",
   "id": "556bec4f-7457-4e9a-ba81-3c686b494449",
   "metadata": {},
   "source": [
    "## Ans:"
   ]
  },
  {
   "cell_type": "markdown",
   "id": "614a8fc4-4bc1-446f-a6fa-09ae635929a6",
   "metadata": {},
   "source": [
    "1. Pandas is a popular Python library for data manipulation and analysis. Here are five common functions provided by Pandas, along with code examples for each:\n",
    "\n",
    "Reading Data:\\\n",
    "        Pandas can read data from various file formats like CSV, Excel, SQL databases, and more"
   ]
  },
  {
   "cell_type": "code",
   "execution_count": null,
   "id": "22a825f9-9aaf-40a5-8a69-a497ff6554b1",
   "metadata": {},
   "outputs": [],
   "source": [
    "import pandas as pd\n",
    "\n",
    "# Read data from a CSV file\n",
    "data = pd.read_csv('data.csv')"
   ]
  },
  {
   "cell_type": "markdown",
   "id": "0845858f-d84c-4b60-bfd5-4ac325a083ae",
   "metadata": {},
   "source": [
    "2. Data Exploration:\\\n",
    "Pandas provides functions to quickly explore and understand your dataset, such as head(), info(), and describe()."
   ]
  },
  {
   "cell_type": "code",
   "execution_count": null,
   "id": "4165f221-1698-45fd-b7a0-a43de1e6dca7",
   "metadata": {},
   "outputs": [],
   "source": [
    "# Display the first few rows of the DataFrame\n",
    "print(data.head())\n",
    "\n",
    "# Display summary information about the DataFrame\n",
    "print(data.info())\n",
    "\n",
    "# Generate summary statistics of numeric columns\n",
    "print(data.describe())"
   ]
  },
  {
   "cell_type": "markdown",
   "id": "c563f77c-ac22-42d3-b8b3-1a60c8030fc1",
   "metadata": {},
   "source": [
    "3. Data Selection and Filtering:\\\n",
    "You can select specific rows and columns of your DataFrame and apply filters based on conditions."
   ]
  },
  {
   "cell_type": "code",
   "execution_count": null,
   "id": "6608f62d-b26c-4887-b7bd-098ed37c1cab",
   "metadata": {},
   "outputs": [],
   "source": [
    "# Select a single column\n",
    "column_data = data['Column_Name']\n",
    "\n",
    "# Filter data based on a condition\n",
    "filtered_data = data[data['Age'] > 30]"
   ]
  },
  {
   "cell_type": "markdown",
   "id": "b533526a-da83-4981-9e91-e94fc0dea943",
   "metadata": {},
   "source": [
    "4. Grouping and Aggregation:\\\n",
    "You can group your data based on one or more columns and perform aggregate functions on the groups."
   ]
  },
  {
   "cell_type": "code",
   "execution_count": null,
   "id": "ed34c5a5-fe57-40e6-8a26-3d456bfb7985",
   "metadata": {},
   "outputs": [],
   "source": [
    "# Group data by a column and calculate the mean of another column\n",
    "grouped_data = data.groupby('Category')['Value'].mean()\n",
    "\n",
    "# Aggregating data using multiple functions\n",
    "agg_data = data.groupby('Category')['Value'].agg(['mean', 'median', 'sum'])"
   ]
  },
  {
   "cell_type": "markdown",
   "id": "d47593f2-d737-43e9-8588-de648902f498",
   "metadata": {},
   "source": [
    "## Q2. Given a Pandas DataFrame df with columns 'A', 'B', and 'C', write a Python function to re-index the DataFrame with a new index that starts from 1 and increments by 2 for each row."
   ]
  },
  {
   "cell_type": "code",
   "execution_count": 1,
   "id": "a86295e7-b7a6-4849-bc02-9bf0559f847e",
   "metadata": {},
   "outputs": [
    {
     "name": "stdout",
     "output_type": "stream",
     "text": [
      "DataFrame with original index:\n",
      "    A   B   C\n",
      "0  10  40  70\n",
      "1  20  50  80\n",
      "2  30  60  90\n",
      "DataFrame with new index:\n",
      "    A   B   C\n",
      "1  10  40  70\n",
      "3  20  50  80\n",
      "5  30  60  90\n"
     ]
    }
   ],
   "source": [
    "import pandas as pd\n",
    "\n",
    "# Sample DataFrame\n",
    "data = {'A': [10, 20, 30], 'B': [40, 50, 60], 'C': [70, 80, 90]}\n",
    "df = pd.DataFrame(data)\n",
    "print('DataFrame with original index:')\n",
    "print(df)\n",
    "# Reset the index and create a new index starting from 1 and incrementing by 2\n",
    "df = df.reset_index(drop=True)\n",
    "df.index = range(1, 2 * len(df) + 1, 2)\n",
    "print('DataFrame with new index:')\n",
    "print(df)"
   ]
  },
  {
   "cell_type": "markdown",
   "id": "01b276d0-10bd-40d2-af25-d1f2cdf70ee3",
   "metadata": {},
   "source": [
    "## Q3. You have a Pandas DataFrame df with a column named 'Values'. Write a Python function that iterates over the DataFrame and calculates the sum of the first three values in the 'Values' column. The function should print the sum to the console. For example, if the 'Values' column of df contains the values [10, 20, 30, 40, 50], your function should calculate and print the sum of the first three values, which is 60."
   ]
  },
  {
   "cell_type": "markdown",
   "id": "7c987a67-22c6-4a74-b86d-e29a35f32256",
   "metadata": {},
   "source": [
    "## Ans:"
   ]
  },
  {
   "cell_type": "code",
   "execution_count": 3,
   "id": "8788afac-aadc-4be0-9c07-7934369ff55e",
   "metadata": {},
   "outputs": [
    {
     "name": "stdout",
     "output_type": "stream",
     "text": [
      "Sum of first three values: 60\n"
     ]
    }
   ],
   "source": [
    "data = {'Values':[10,20,30,40,50]}\n",
    "df1  = pd.DataFrame(data)\n",
    "print('Sum of first three values:',df1['Values'].head(3).sum())"
   ]
  },
  {
   "cell_type": "markdown",
   "id": "f3df5680-352d-46fd-8251-912cadc58018",
   "metadata": {},
   "source": [
    "## Q4. Given a Pandas DataFrame df with a column 'Text', write a Python function to create a new column 'Word_Count' that contains the number of words in each row of the 'Text' column."
   ]
  },
  {
   "cell_type": "markdown",
   "id": "bb65786e-c692-4974-8608-34f817504569",
   "metadata": {},
   "source": [
    "## Ans:"
   ]
  },
  {
   "cell_type": "code",
   "execution_count": null,
   "id": "b8a3a953-0825-4f0b-ae48-bbc67e44a208",
   "metadata": {},
   "outputs": [],
   "source": [
    "# X is the text in each row.\n",
    "# lambda function returns number of words in each text present in each row.\n",
    "# apply(): It makes sure that lambda function is applicatble to each text present in the dataframe.\n",
    "df2['Word_Count'] = df2['Text'].apply(lambda x:len(x.split()))"
   ]
  },
  {
   "cell_type": "markdown",
   "id": "e5f479a5-dd37-4b8a-856c-2b75495c4bbc",
   "metadata": {},
   "source": [
    "## Q5. How are DataFrame.size() and DataFrame.shape() different?"
   ]
  },
  {
   "cell_type": "markdown",
   "id": "8d6be138-c6a8-4501-ba34-559d2d4177f5",
   "metadata": {},
   "source": [
    "## Ans:"
   ]
  },
  {
   "cell_type": "markdown",
   "id": "4e202fc0-1f34-436d-9fd2-3dfcb6295c79",
   "metadata": {},
   "source": [
    "DataFrame.size:\n",
    "\n",
    "    DataFrame.size is an attribute that returns the total number of elements in the DataFrame. It calculates the product of the number of rows and the number of columns in the DataFrame.\n",
    "    It returns an integer value representing the total number of elements in the DataFrame, including both data and potential missing (NaN) values."
   ]
  },
  {
   "cell_type": "code",
   "execution_count": 5,
   "id": "e3778ea8-7088-4f63-adfe-cb1ee5ab3816",
   "metadata": {},
   "outputs": [
    {
     "name": "stdout",
     "output_type": "stream",
     "text": [
      "   A  B\n",
      "0  1  4\n",
      "1  2  5\n",
      "2  3  6\n",
      "Size of the Data Frame: 6\n"
     ]
    }
   ],
   "source": [
    "import pandas as pd\n",
    "\n",
    "data = {'A': [1, 2, 3], 'B': [4, 5, 6]}\n",
    "df = pd.DataFrame(data)\n",
    "\n",
    "size = df.size\n",
    "print(df)\n",
    "print('Size of the Data Frame:',size)  # Output: 6 (3 rows * 2 columns = 6 elements)"
   ]
  },
  {
   "cell_type": "markdown",
   "id": "c2e088aa-f56e-4de5-b24d-df2746fb9976",
   "metadata": {},
   "source": [
    "DataFrame.shape:\n",
    "\n",
    "    DataFrame.shape is an attribute that returns a tuple representing the dimensions of the DataFrame. The tuple contains two values: the number of rows and the number of columns.\n",
    "    It provides a more intuitive way to understand the structure of the DataFrame by returning the shape as a tuple."
   ]
  },
  {
   "cell_type": "code",
   "execution_count": 7,
   "id": "8567632b-7801-4807-a022-dc983a8548a7",
   "metadata": {},
   "outputs": [
    {
     "name": "stdout",
     "output_type": "stream",
     "text": [
      "   A  B\n",
      "0  1  4\n",
      "1  2  5\n",
      "2  3  6\n",
      "Shape of the Data Frame: (3, 2)\n"
     ]
    }
   ],
   "source": [
    "import pandas as pd\n",
    "\n",
    "data = {'A': [1, 2, 3], 'B': [4, 5, 6]}\n",
    "df = pd.DataFrame(data)\n",
    "\n",
    "shape = df.shape\n",
    "print(df)\n",
    "print('Shape of the Data Frame:',shape)  # Output: (3, 2) (3 rows, 2 columns)"
   ]
  },
  {
   "cell_type": "markdown",
   "id": "39e11f45-edc6-4c2d-80a7-9562651b9d9c",
   "metadata": {},
   "source": [
    "## Q6. Which function of pandas do we use to read an excel file?"
   ]
  },
  {
   "cell_type": "markdown",
   "id": "d5c213dd-bb6f-4393-9572-e22346d27e08",
   "metadata": {},
   "source": [
    "## Ans:"
   ]
  },
  {
   "cell_type": "code",
   "execution_count": null,
   "id": "2ae79b36-f307-43af-a643-a77ede84dd6f",
   "metadata": {},
   "outputs": [],
   "source": [
    "import pandas as pd\n",
    "\n",
    "# Read an Excel file into a Pandas DataFrame\n",
    "df = pd.read_excel('your_file.xlsx')"
   ]
  },
  {
   "cell_type": "markdown",
   "id": "02470099-7fd1-405a-b540-61d8a3a3d709",
   "metadata": {},
   "source": [
    "## Q7. You have a Pandas DataFrame df that contains a column named 'Email' that contains email addresses in the format 'username@domain.com'. Write a Python function that creates a new column 'Username' in df that contains only the username part of each email address."
   ]
  },
  {
   "cell_type": "markdown",
   "id": "dded1bec-d14c-4ac1-9b2d-9973b09e7efa",
   "metadata": {},
   "source": [
    "## Ans:"
   ]
  },
  {
   "cell_type": "code",
   "execution_count": 16,
   "id": "8bdbb153-2aea-482f-ab3b-6dd3009bc91b",
   "metadata": {},
   "outputs": [
    {
     "name": "stdout",
     "output_type": "stream",
     "text": [
      "Original data frame:\n",
      "                 Email\n",
      "0  username@domain.com\n",
      "1   khanajan@gmail.com\n",
      "2       hari@gmail.com\n",
      "\n",
      "\n",
      "Final data frame:\n",
      "                 Email  Username\n",
      "0  username@domain.com  username\n",
      "1   khanajan@gmail.com  khanajan\n",
      "2       hari@gmail.com      hari\n"
     ]
    }
   ],
   "source": [
    "data2 = {'Email':['username@domain.com','khanajan@gmail.com','hari@gmail.com']}\n",
    "df2 = pd.DataFrame(data2)\n",
    "print('Original data frame:')\n",
    "print(df2)\n",
    "df2['Username'] = df2['Email'].apply(lambda x:x.split('@')[0])\n",
    "print('\\n')\n",
    "print('Final data frame:')\n",
    "print(df2)"
   ]
  },
  {
   "cell_type": "markdown",
   "id": "e0c4d1af-4307-4497-bd78-5198000d2e7f",
   "metadata": {},
   "source": [
    "## Q8. You have a Pandas DataFrame df with columns 'A', 'B', and 'C'. Write a Python function that selects all rows where the value in column 'A' is greater than 5 and the value in column 'B' is less than 10. The function should return a new DataFrame that contains only the selected rows."
   ]
  },
  {
   "cell_type": "code",
   "execution_count": 22,
   "id": "7073899b-d842-4265-9d94-f67e2e8fac59",
   "metadata": {},
   "outputs": [
    {
     "name": "stdout",
     "output_type": "stream",
     "text": [
      "   A   B  C\n",
      "0  3   5  1\n",
      "1  8   2  7\n",
      "2  6  19  4\n",
      "3  2   3  5\n",
      "4  9   1  2\n"
     ]
    }
   ],
   "source": [
    "data = {'A':[3,8,6,2,9],\n",
    "        'B':[5,2,19,3,1],\n",
    "        'C':[1,7,4,5,2]}\n",
    "df = pd.DataFrame(data)\n",
    "print(df)"
   ]
  },
  {
   "cell_type": "markdown",
   "id": "dfec28a7-9101-4c77-8d2d-180488d7e6ab",
   "metadata": {},
   "source": [
    "## Ans:"
   ]
  },
  {
   "cell_type": "code",
   "execution_count": 23,
   "id": "e5ad62e1-ca01-4f54-8b40-6b49b5817305",
   "metadata": {},
   "outputs": [
    {
     "data": {
      "text/html": [
       "<div>\n",
       "<style scoped>\n",
       "    .dataframe tbody tr th:only-of-type {\n",
       "        vertical-align: middle;\n",
       "    }\n",
       "\n",
       "    .dataframe tbody tr th {\n",
       "        vertical-align: top;\n",
       "    }\n",
       "\n",
       "    .dataframe thead th {\n",
       "        text-align: right;\n",
       "    }\n",
       "</style>\n",
       "<table border=\"1\" class=\"dataframe\">\n",
       "  <thead>\n",
       "    <tr style=\"text-align: right;\">\n",
       "      <th></th>\n",
       "      <th>A</th>\n",
       "      <th>B</th>\n",
       "      <th>C</th>\n",
       "    </tr>\n",
       "  </thead>\n",
       "  <tbody>\n",
       "    <tr>\n",
       "      <th>1</th>\n",
       "      <td>8</td>\n",
       "      <td>2</td>\n",
       "      <td>7</td>\n",
       "    </tr>\n",
       "    <tr>\n",
       "      <th>4</th>\n",
       "      <td>9</td>\n",
       "      <td>1</td>\n",
       "      <td>2</td>\n",
       "    </tr>\n",
       "  </tbody>\n",
       "</table>\n",
       "</div>"
      ],
      "text/plain": [
       "   A  B  C\n",
       "1  8  2  7\n",
       "4  9  1  2"
      ]
     },
     "execution_count": 23,
     "metadata": {},
     "output_type": "execute_result"
    }
   ],
   "source": [
    "df1 = df[(df['A']>5) & (df['B']<10)] \n",
    "df1"
   ]
  },
  {
   "cell_type": "markdown",
   "id": "f28135e3-98da-4065-9706-451a8c77b31c",
   "metadata": {},
   "source": [
    "## Q9. Given a Pandas DataFrame df with a column 'Values', write a Python function to calculate the mean, median, and standard deviation of the values in the 'Values' column."
   ]
  },
  {
   "cell_type": "markdown",
   "id": "90352e5c-b78c-4aed-85ba-3018bdef2d02",
   "metadata": {},
   "source": [
    "## Ans:"
   ]
  },
  {
   "cell_type": "code",
   "execution_count": null,
   "id": "6a3b92e3-17c5-43df-968f-06ae4ea65e93",
   "metadata": {},
   "outputs": [],
   "source": [
    "# Mean\n",
    "df['Values'].mean()\n",
    "# Median\n",
    "df['Values'].median()\n",
    "# Mode\n",
    "df['Values'].mode()\n",
    "# Standard Deviation\n",
    "df['Values'].std()"
   ]
  },
  {
   "cell_type": "markdown",
   "id": "4f364668-74fa-4015-82be-67e84cb78e2d",
   "metadata": {},
   "source": [
    "## Q10. Given a Pandas DataFrame df with a column 'Sales' and a column 'Date', write a Python function to create a new column 'MovingAverage' that contains the moving average of the sales for the past 7 days for each row in the DataFrame. The moving average should be calculated using a window of size 7 and should include the current day."
   ]
  },
  {
   "cell_type": "markdown",
   "id": "b9b00df8-6bf1-4473-8d84-35216970b154",
   "metadata": {},
   "source": [
    "## Ans:"
   ]
  },
  {
   "cell_type": "code",
   "execution_count": null,
   "id": "6c4bbd9b-fe2d-4928-aef8-249f43da8db1",
   "metadata": {},
   "outputs": [],
   "source": [
    "import pandas as pd\n",
    "\n",
    "def calculate_moving_average(df):\n",
    "    # Sort the DataFrame by the 'Date' column if it's not already sorted\n",
    "    df['Date'] = pd.to_datetime(df['Date'])\n",
    "    df = df.sort_values(by='Date')\n",
    "\n",
    "    # Calculate the moving average with a window of size 7\n",
    "    df['MovingAverage'] = df['Sales'].rolling(window=7, min_periods=1).mean()\n",
    "\n",
    "    return df\n",
    "\n",
    "# Example usage:\n",
    "data = {'Date': ['2023-09-01', '2023-09-02', '2023-09-03', '2023-09-04', '2023-09-05', '2023-09-06', '2023-09-07'],\n",
    "        'Sales': [100, 120, 130, 110, 140, 150, 160]}\n",
    "df = pd.DataFrame(data)\n",
    "\n",
    "df = calculate_moving_average(df)\n",
    "print(df)"
   ]
  },
  {
   "cell_type": "markdown",
   "id": "532fe2d5-d038-42ce-9697-69b6bc3cdb6e",
   "metadata": {},
   "source": [
    "## Q11. You have a Pandas DataFrame df with a column 'Date'. Write a Python function that creates a new column 'Weekday' in the DataFrame. The 'Weekday' column should contain the weekday name (e.g. Monday, Tuesday) corresponding to each date in the 'Date' column. For example, if df contains the following values:\n",
    "    Date\n",
    "0 2023-01-01\\\n",
    "1 2023-01-02\\\n",
    "2 2023-01-03\\\n",
    "3 2023-01-04\\\n",
    "4 2023-01-05\\\n",
    "Your function should create the following DataFrame:\n",
    "\n",
    "     Date   Weekday\n",
    "0 2023-01-01   Sunday\\\n",
    "1 2023-01-02   Monday\\\n",
    "2 2023-01-03   Tuesday\\\n",
    "3 2023-01-04   Wednesday\\\n",
    "4 2023-01-05   Thursday\\\n",
    "The function should return the modified DataFrame."
   ]
  },
  {
   "cell_type": "markdown",
   "id": "7cf525a2-bb71-4999-8480-92c5776e0ae9",
   "metadata": {},
   "source": [
    "## Ans:"
   ]
  },
  {
   "cell_type": "code",
   "execution_count": 44,
   "id": "2b957c8e-c43b-48d1-9e0c-b7b9b0c42f5e",
   "metadata": {},
   "outputs": [
    {
     "data": {
      "text/plain": [
       "DatetimeIndex(['2023-01-01', '2023-01-02', '2023-01-03', '2023-01-04',\n",
       "               '2023-01-05'],\n",
       "              dtype='datetime64[ns]', freq='D')"
      ]
     },
     "execution_count": 44,
     "metadata": {},
     "output_type": "execute_result"
    }
   ],
   "source": [
    "data = pd.date_range(start = '2023-01-01' ,end = '2023-01-05')\n",
    "data"
   ]
  },
  {
   "cell_type": "code",
   "execution_count": 45,
   "id": "7a852dcd-cadc-4a87-aaa0-752ff985ee9a",
   "metadata": {},
   "outputs": [
    {
     "data": {
      "text/html": [
       "<div>\n",
       "<style scoped>\n",
       "    .dataframe tbody tr th:only-of-type {\n",
       "        vertical-align: middle;\n",
       "    }\n",
       "\n",
       "    .dataframe tbody tr th {\n",
       "        vertical-align: top;\n",
       "    }\n",
       "\n",
       "    .dataframe thead th {\n",
       "        text-align: right;\n",
       "    }\n",
       "</style>\n",
       "<table border=\"1\" class=\"dataframe\">\n",
       "  <thead>\n",
       "    <tr style=\"text-align: right;\">\n",
       "      <th></th>\n",
       "      <th>Date</th>\n",
       "    </tr>\n",
       "  </thead>\n",
       "  <tbody>\n",
       "    <tr>\n",
       "      <th>0</th>\n",
       "      <td>2023-01-01</td>\n",
       "    </tr>\n",
       "    <tr>\n",
       "      <th>1</th>\n",
       "      <td>2023-01-02</td>\n",
       "    </tr>\n",
       "    <tr>\n",
       "      <th>2</th>\n",
       "      <td>2023-01-03</td>\n",
       "    </tr>\n",
       "    <tr>\n",
       "      <th>3</th>\n",
       "      <td>2023-01-04</td>\n",
       "    </tr>\n",
       "    <tr>\n",
       "      <th>4</th>\n",
       "      <td>2023-01-05</td>\n",
       "    </tr>\n",
       "  </tbody>\n",
       "</table>\n",
       "</div>"
      ],
      "text/plain": [
       "        Date\n",
       "0 2023-01-01\n",
       "1 2023-01-02\n",
       "2 2023-01-03\n",
       "3 2023-01-04\n",
       "4 2023-01-05"
      ]
     },
     "execution_count": 45,
     "metadata": {},
     "output_type": "execute_result"
    }
   ],
   "source": [
    "df_data = pd.DataFrame({'Date':data})\n",
    "df_data"
   ]
  },
  {
   "cell_type": "code",
   "execution_count": 47,
   "id": "3c336898-d1d0-457f-b29d-415f00834215",
   "metadata": {},
   "outputs": [
    {
     "name": "stdout",
     "output_type": "stream",
     "text": [
      "New data frame:\n",
      "        Date    Weekday\n",
      "0 2023-01-01     Sunday\n",
      "1 2023-01-02     Monday\n",
      "2 2023-01-03    Tuesday\n",
      "3 2023-01-04  Wednesday\n",
      "4 2023-01-05   Thursday\n"
     ]
    }
   ],
   "source": [
    "df_data['Date'] = pd.to_datetime(df_data['Date'])\n",
    "lst1 = ['Sunday','Monday','Tuesday','Wednesday','Thursday']\n",
    "lst2 = list(df_data['Date'].dt.day)\n",
    "df_data['Weekday'] = [lst1[x-1] for x in lst2]\n",
    "print('New data frame:')\n",
    "print(df_data)"
   ]
  },
  {
   "cell_type": "markdown",
   "id": "03ec02d6-3a01-4c2c-bca8-1c92063e9138",
   "metadata": {},
   "source": [
    "## Q12. Given a Pandas DataFrame df with a column 'Date' that contains timestamps, write a Python function to select all rows where the date is between '2023-01-01' and '2023-01-31'."
   ]
  },
  {
   "cell_type": "markdown",
   "id": "00d9c0a8-11ee-43bc-a1fe-05ded99ed0df",
   "metadata": {},
   "source": [
    "## Ans:"
   ]
  },
  {
   "cell_type": "code",
   "execution_count": null,
   "id": "d92c5e76-49b4-4188-b73e-2e849047d32f",
   "metadata": {},
   "outputs": [],
   "source": [
    "import pandas as pd\n",
    "\n",
    "def select_rows_in_date_range(df):\n",
    "    # Convert the 'Date' column to datetime format if it's not already\n",
    "    df['Date'] = pd.to_datetime(df['Date'])\n",
    "    \n",
    "    # Define the start and end dates for the date range\n",
    "    start_date = pd.Timestamp('2023-01-01')\n",
    "    end_date = pd.Timestamp('2023-01-31')\n",
    "    \n",
    "    # Use boolean indexing to select rows within the specified date range\n",
    "    selected_rows = df[(df['Date'] >= start_date) & (df['Date'] <= end_date)]\n",
    "    \n",
    "    return selected_rows\n",
    "\n",
    "# Example usage:\n",
    "data = {'Date': ['2023-01-05', '2023-01-15', '2023-02-10', '2023-01-25'],\n",
    "        'Value': [100, 150, 200, 120]}\n",
    "df = pd.DataFrame(data)\n",
    "\n",
    "selected_df = select_rows_in_date_range(df)\n",
    "print(selected_df)"
   ]
  },
  {
   "cell_type": "markdown",
   "id": "e00a5e6c-ba7d-4d15-9c1b-70b1c0033535",
   "metadata": {},
   "source": [
    "## Q13. To use the basic functions of pandas, what is the first and foremost necessary library that needs to be imported?"
   ]
  },
  {
   "cell_type": "markdown",
   "id": "c1b4995e-580f-4b19-abbe-dce4e40d2eb2",
   "metadata": {},
   "source": [
    "## Ans:"
   ]
  },
  {
   "cell_type": "code",
   "execution_count": 48,
   "id": "51379023-6dc7-44a4-9d51-1171729ebb32",
   "metadata": {},
   "outputs": [],
   "source": [
    "import pandas"
   ]
  }
 ],
 "metadata": {
  "kernelspec": {
   "display_name": "Python 3 (ipykernel)",
   "language": "python",
   "name": "python3"
  },
  "language_info": {
   "codemirror_mode": {
    "name": "ipython",
    "version": 3
   },
   "file_extension": ".py",
   "mimetype": "text/x-python",
   "name": "python",
   "nbconvert_exporter": "python",
   "pygments_lexer": "ipython3",
   "version": "3.10.8"
  }
 },
 "nbformat": 4,
 "nbformat_minor": 5
}
